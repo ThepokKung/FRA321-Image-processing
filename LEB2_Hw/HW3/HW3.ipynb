{
 "cells": [
  {
   "cell_type": "markdown",
   "metadata": {},
   "source": [
    "# **Import Libary**"
   ]
  },
  {
   "cell_type": "code",
   "execution_count": 1,
   "metadata": {},
   "outputs": [],
   "source": [
    "import matplotlib.pyplot as plt\n",
    "import cv2\n",
    "import numpy as np"
   ]
  },
  {
   "cell_type": "markdown",
   "metadata": {},
   "source": [
    "# **Load Image**"
   ]
  },
  {
   "cell_type": "code",
   "execution_count": 7,
   "metadata": {},
   "outputs": [
    {
     "data": {
      "text/plain": [
       "Text(0.5, 1.0, 'Histogram Equalization')"
      ]
     },
     "execution_count": 7,
     "metadata": {},
     "output_type": "execute_result"
    },
    {
     "data": {
      "image/png": "[encoded data removed]",
      "text/plain": [
       "<Figure size 2000x500 with 1 Axes>"
      ]
     },
     "metadata": {},
     "output_type": "display_data"
    }
   ],
   "source": [
    "# สร้างภาพ 5x5 จากข้อมูลพิกเซลที่ให้มา\n",
    "pixel_values = np.array([5, 3, 1, 0, 1, \n",
    "                         0, 2, 1, 0, 5, \n",
    "                         1, 5, 0, 1, 2, \n",
    "                         4, 2, 6, 2, 1, \n",
    "                         6, 2, 0, 1, 5], dtype=np.uint8).reshape((5, 5))\n",
    "\n",
    "equalized_pixels = cv2.equalizeHist(pixel_values)\n",
    "\n",
    "plt.figure(figsize=(20, 5))\n",
    "plt.subplot(1, 4, 1)\n",
    "plt.imshow(equalized_pixels)\n",
    "plt.axis('off')\n",
    "plt.title('Histogram Equalization')\n"
   ]
  }
 ],
 "metadata": {
  "kernelspec": {
   "display_name": "BasicImage",
   "language": "python",
   "name": "python3"
  },
  "language_info": {
   "codemirror_mode": {
    "name": "ipython",
    "version": 3
   },
   "file_extension": ".py",
   "mimetype": "text/x-python",
   "name": "python",
   "nbconvert_exporter": "python",
   "pygments_lexer": "ipython3",
   "version": "3.12.7"
  }
 },
 "nbformat": 4,
 "nbformat_minor": 2
}
